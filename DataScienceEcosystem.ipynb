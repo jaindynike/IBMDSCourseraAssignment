{
  "metadata": {
    "language_info": {
      "name": ""
    },
    "kernelspec": {
      "name": "python",
      "display_name": "Python (Pyodide)",
      "language": "python"
    },
    "colab": {
      "provenance": []
    }
  },
  "nbformat_minor": 0,
  "nbformat": 4,
  "cells": [
    {
      "cell_type": "markdown",
      "source": [
        "# Data Science Tools and Ecosystem"
      ],
      "metadata": {
        "id": "-t33hKeuWDwl"
      }
    },
    {
      "cell_type": "markdown",
      "source": [
        "In this notebook, Data Science Tools and Ecosystem are summarized."
      ],
      "metadata": {
        "id": "bsr56GSRWDwu"
      }
    },
    {
      "cell_type": "markdown",
      "source": [
        "Some of the popular languages that Data Scientists use are:\n",
        "1. R\n",
        "2. Python\n",
        "3. Julia"
      ],
      "metadata": {
        "id": "XggvWrq3WDwv"
      }
    },
    {
      "cell_type": "markdown",
      "source": [
        "Some of the commonly used libraries used by Data Scientists include:\n",
        "1. TensorFlow\n",
        "2. PyTorch\n",
        "3. Pandas\n",
        "4. NumPy\n",
        "5. Scipy"
      ],
      "metadata": {
        "id": "8dp0Wh1QWDw6"
      }
    },
    {
      "cell_type": "markdown",
      "source": [
        "|Data Science Tools|\n",
        "| -------          |\n",
        "|Tableau           |\n",
        "|PowerBI           |\n",
        "|Excel             |"
      ],
      "metadata": {
        "id": "1k40dJapWDw7"
      }
    },
    {
      "cell_type": "markdown",
      "source": [
        "### Below are a few examples of evaluating arithmetic expressions in Python"
      ],
      "metadata": {
        "id": "6QNBwy5pWDw9"
      }
    },
    {
      "cell_type": "code",
      "source": [
        "(3*4)+5\n",
        "# This a simple arithmetic expression to mutiply then add integers"
      ],
      "metadata": {
        "trusted": true,
        "colab": {
          "base_uri": "https://localhost:8080/"
        },
        "id": "FSwkYK-8WDw-",
        "outputId": "3de9f387-a4df-487d-a088-5cb827df8dd1"
      },
      "execution_count": 1,
      "outputs": [
        {
          "output_type": "execute_result",
          "data": {
            "text/plain": [
              "17"
            ]
          },
          "metadata": {},
          "execution_count": 1
        }
      ]
    },
    {
      "cell_type": "code",
      "source": [
        "min = 200\n",
        "print(\"Hour :\",int(200/60),\" Mins:\", int(200%60))\n",
        "#This will convert 200 minutes to hours by diving by 60"
      ],
      "metadata": {
        "colab": {
          "base_uri": "https://localhost:8080/"
        },
        "id": "bg8VHYPaWDxC",
        "outputId": "6f883688-2e20-4ae1-eb28-471f611ce9aa"
      },
      "execution_count": 2,
      "outputs": [
        {
          "output_type": "stream",
          "name": "stdout",
          "text": [
            "Hour : 3  Mins: 20\n"
          ]
        }
      ]
    },
    {
      "cell_type": "markdown",
      "source": [],
      "metadata": {
        "id": "d5I8meBAXdkE"
      }
    },
    {
      "cell_type": "markdown",
      "source": [
        "**Objectives:**\n",
        "\n",
        "* List popular languages for Data Science\n",
        "* Create a code cell to convert minutes to hours\n",
        "* Create a code cell to multiply and add numbers\n",
        "* Share your notebook through GitHub\n",
        "* Create a markdown cell to list data science libraries\n"
      ],
      "metadata": {
        "id": "spy7QGrdXhyH"
      }
    },
    {
      "cell_type": "markdown",
      "source": [
        "##Author\n",
        "Nitin Jain\n"
      ],
      "metadata": {
        "id": "w5WH477IZI6f"
      }
    }
  ]
}